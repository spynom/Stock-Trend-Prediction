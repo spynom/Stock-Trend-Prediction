{
 "cells": [
  {
   "metadata": {
    "ExecuteTime": {
     "end_time": "2025-03-31T17:52:11.392826Z",
     "start_time": "2025-03-31T17:52:11.329049Z"
    }
   },
   "cell_type": "code",
   "source": [
    "import yfinance as yf\n",
    "import datetime as dt\n",
    "import numpy as np\n",
    "import pandas as pd\n",
    "import missingno as msno\n",
    "import matplotlib.pyplot as plt\n",
    "import seaborn as sns\n",
    "pd.set_option('display.max_columns', None)\n",
    "pd.set_option('display.max_rows', None)\n",
    "from sklearn.metrics import mean_absolute_error as mae"
   ],
   "id": "8d3b3e160a81ba2a",
   "outputs": [],
   "execution_count": 128
  },
  {
   "metadata": {},
   "cell_type": "markdown",
   "source": "For dataset, we will fetch the stock data of \"Power Grid Corporation of India Limited\" from the [yahoo finace](https://finance.yahoo.com/) with the help of `yfinace` python module.",
   "id": "d76ad594986b709e"
  },
  {
   "cell_type": "code",
   "id": "initial_id",
   "metadata": {
    "collapsed": true,
    "ExecuteTime": {
     "end_time": "2025-03-31T12:44:20.255786Z",
     "start_time": "2025-03-31T12:44:20.213528Z"
    }
   },
   "source": [
    "\n",
    "start_time = dt.datetime(2020, 1, 1)\n",
    "end_time = dt.datetime(2025, 2, 28)\n",
    "stock_id = \"POWERGRID.NS\"\n",
    "df = yf.download(stock_id, start_time, end_time)"
   ],
   "outputs": [
    {
     "name": "stderr",
     "output_type": "stream",
     "text": [
      "[*********************100%***********************]  1 of 1 completed\n"
     ]
    }
   ],
   "execution_count": 31
  },
  {
   "metadata": {
    "ExecuteTime": {
     "end_time": "2025-03-31T12:44:20.277684Z",
     "start_time": "2025-03-31T12:44:20.265266Z"
    }
   },
   "cell_type": "code",
   "source": "df.head()",
   "id": "6d21c8e502c2854e",
   "outputs": [
    {
     "data": {
      "text/plain": [
       "Price             Close         High          Low         Open       Volume\n",
       "Ticker     POWERGRID.NS POWERGRID.NS POWERGRID.NS POWERGRID.NS POWERGRID.NS\n",
       "Date                                                                       \n",
       "2020-01-01    80.777489    80.942761    78.608267    78.732226     13620373\n",
       "2020-01-02    80.612213    81.273309    80.302325    80.798148      5673692\n",
       "2020-01-03    79.744545    80.488274    79.021467    80.261025      7358268\n",
       "2020-01-06    79.785851    80.137058    77.678611    79.331353      7355290\n",
       "2020-01-07    79.207397    80.364316    78.980148    79.806517     14023712"
      ],
      "text/html": [
       "<div>\n",
       "<style scoped>\n",
       "    .dataframe tbody tr th:only-of-type {\n",
       "        vertical-align: middle;\n",
       "    }\n",
       "\n",
       "    .dataframe tbody tr th {\n",
       "        vertical-align: top;\n",
       "    }\n",
       "\n",
       "    .dataframe thead tr th {\n",
       "        text-align: left;\n",
       "    }\n",
       "\n",
       "    .dataframe thead tr:last-of-type th {\n",
       "        text-align: right;\n",
       "    }\n",
       "</style>\n",
       "<table border=\"1\" class=\"dataframe\">\n",
       "  <thead>\n",
       "    <tr>\n",
       "      <th>Price</th>\n",
       "      <th>Close</th>\n",
       "      <th>High</th>\n",
       "      <th>Low</th>\n",
       "      <th>Open</th>\n",
       "      <th>Volume</th>\n",
       "    </tr>\n",
       "    <tr>\n",
       "      <th>Ticker</th>\n",
       "      <th>POWERGRID.NS</th>\n",
       "      <th>POWERGRID.NS</th>\n",
       "      <th>POWERGRID.NS</th>\n",
       "      <th>POWERGRID.NS</th>\n",
       "      <th>POWERGRID.NS</th>\n",
       "    </tr>\n",
       "    <tr>\n",
       "      <th>Date</th>\n",
       "      <th></th>\n",
       "      <th></th>\n",
       "      <th></th>\n",
       "      <th></th>\n",
       "      <th></th>\n",
       "    </tr>\n",
       "  </thead>\n",
       "  <tbody>\n",
       "    <tr>\n",
       "      <th>2020-01-01</th>\n",
       "      <td>80.777489</td>\n",
       "      <td>80.942761</td>\n",
       "      <td>78.608267</td>\n",
       "      <td>78.732226</td>\n",
       "      <td>13620373</td>\n",
       "    </tr>\n",
       "    <tr>\n",
       "      <th>2020-01-02</th>\n",
       "      <td>80.612213</td>\n",
       "      <td>81.273309</td>\n",
       "      <td>80.302325</td>\n",
       "      <td>80.798148</td>\n",
       "      <td>5673692</td>\n",
       "    </tr>\n",
       "    <tr>\n",
       "      <th>2020-01-03</th>\n",
       "      <td>79.744545</td>\n",
       "      <td>80.488274</td>\n",
       "      <td>79.021467</td>\n",
       "      <td>80.261025</td>\n",
       "      <td>7358268</td>\n",
       "    </tr>\n",
       "    <tr>\n",
       "      <th>2020-01-06</th>\n",
       "      <td>79.785851</td>\n",
       "      <td>80.137058</td>\n",
       "      <td>77.678611</td>\n",
       "      <td>79.331353</td>\n",
       "      <td>7355290</td>\n",
       "    </tr>\n",
       "    <tr>\n",
       "      <th>2020-01-07</th>\n",
       "      <td>79.207397</td>\n",
       "      <td>80.364316</td>\n",
       "      <td>78.980148</td>\n",
       "      <td>79.806517</td>\n",
       "      <td>14023712</td>\n",
       "    </tr>\n",
       "  </tbody>\n",
       "</table>\n",
       "</div>"
      ]
     },
     "execution_count": 32,
     "metadata": {},
     "output_type": "execute_result"
    }
   ],
   "execution_count": 32
  },
  {
   "metadata": {
    "ExecuteTime": {
     "end_time": "2025-03-31T12:44:20.328003Z",
     "start_time": "2025-03-31T12:44:20.318398Z"
    }
   },
   "cell_type": "code",
   "source": "df.tail()",
   "id": "1ab981bcba23fce6",
   "outputs": [
    {
     "data": {
      "text/plain": [
       "Price             Close         High          Low         Open       Volume\n",
       "Ticker     POWERGRID.NS POWERGRID.NS POWERGRID.NS POWERGRID.NS POWERGRID.NS\n",
       "Date                                                                       \n",
       "2025-02-20   265.750000   266.450012   261.299988   262.750000     15312926\n",
       "2025-02-21   261.899994   265.750000   259.399994   265.299988     10757038\n",
       "2025-02-24   259.149994   261.799988   257.250000   258.000000     14599185\n",
       "2025-02-25   255.750000   259.950012   254.899994   258.799988     21287363\n",
       "2025-02-27   256.250000   257.450012   253.449997   254.000000     13614799"
      ],
      "text/html": [
       "<div>\n",
       "<style scoped>\n",
       "    .dataframe tbody tr th:only-of-type {\n",
       "        vertical-align: middle;\n",
       "    }\n",
       "\n",
       "    .dataframe tbody tr th {\n",
       "        vertical-align: top;\n",
       "    }\n",
       "\n",
       "    .dataframe thead tr th {\n",
       "        text-align: left;\n",
       "    }\n",
       "\n",
       "    .dataframe thead tr:last-of-type th {\n",
       "        text-align: right;\n",
       "    }\n",
       "</style>\n",
       "<table border=\"1\" class=\"dataframe\">\n",
       "  <thead>\n",
       "    <tr>\n",
       "      <th>Price</th>\n",
       "      <th>Close</th>\n",
       "      <th>High</th>\n",
       "      <th>Low</th>\n",
       "      <th>Open</th>\n",
       "      <th>Volume</th>\n",
       "    </tr>\n",
       "    <tr>\n",
       "      <th>Ticker</th>\n",
       "      <th>POWERGRID.NS</th>\n",
       "      <th>POWERGRID.NS</th>\n",
       "      <th>POWERGRID.NS</th>\n",
       "      <th>POWERGRID.NS</th>\n",
       "      <th>POWERGRID.NS</th>\n",
       "    </tr>\n",
       "    <tr>\n",
       "      <th>Date</th>\n",
       "      <th></th>\n",
       "      <th></th>\n",
       "      <th></th>\n",
       "      <th></th>\n",
       "      <th></th>\n",
       "    </tr>\n",
       "  </thead>\n",
       "  <tbody>\n",
       "    <tr>\n",
       "      <th>2025-02-20</th>\n",
       "      <td>265.750000</td>\n",
       "      <td>266.450012</td>\n",
       "      <td>261.299988</td>\n",
       "      <td>262.750000</td>\n",
       "      <td>15312926</td>\n",
       "    </tr>\n",
       "    <tr>\n",
       "      <th>2025-02-21</th>\n",
       "      <td>261.899994</td>\n",
       "      <td>265.750000</td>\n",
       "      <td>259.399994</td>\n",
       "      <td>265.299988</td>\n",
       "      <td>10757038</td>\n",
       "    </tr>\n",
       "    <tr>\n",
       "      <th>2025-02-24</th>\n",
       "      <td>259.149994</td>\n",
       "      <td>261.799988</td>\n",
       "      <td>257.250000</td>\n",
       "      <td>258.000000</td>\n",
       "      <td>14599185</td>\n",
       "    </tr>\n",
       "    <tr>\n",
       "      <th>2025-02-25</th>\n",
       "      <td>255.750000</td>\n",
       "      <td>259.950012</td>\n",
       "      <td>254.899994</td>\n",
       "      <td>258.799988</td>\n",
       "      <td>21287363</td>\n",
       "    </tr>\n",
       "    <tr>\n",
       "      <th>2025-02-27</th>\n",
       "      <td>256.250000</td>\n",
       "      <td>257.450012</td>\n",
       "      <td>253.449997</td>\n",
       "      <td>254.000000</td>\n",
       "      <td>13614799</td>\n",
       "    </tr>\n",
       "  </tbody>\n",
       "</table>\n",
       "</div>"
      ]
     },
     "execution_count": 33,
     "metadata": {},
     "output_type": "execute_result"
    }
   ],
   "execution_count": 33
  },
  {
   "metadata": {
    "ExecuteTime": {
     "end_time": "2025-03-31T12:44:20.430155Z",
     "start_time": "2025-03-31T12:44:20.419117Z"
    }
   },
   "cell_type": "code",
   "source": [
    "df.reset_index(inplace=True)\n",
    "df.columns = [col for col, ticker in df.columns.values]\n",
    "df.head()"
   ],
   "id": "d4080af8dd397407",
   "outputs": [
    {
     "data": {
      "text/plain": [
       "        Date      Close       High        Low       Open    Volume\n",
       "0 2020-01-01  80.777489  80.942761  78.608267  78.732226  13620373\n",
       "1 2020-01-02  80.612213  81.273309  80.302325  80.798148   5673692\n",
       "2 2020-01-03  79.744545  80.488274  79.021467  80.261025   7358268\n",
       "3 2020-01-06  79.785851  80.137058  77.678611  79.331353   7355290\n",
       "4 2020-01-07  79.207397  80.364316  78.980148  79.806517  14023712"
      ],
      "text/html": [
       "<div>\n",
       "<style scoped>\n",
       "    .dataframe tbody tr th:only-of-type {\n",
       "        vertical-align: middle;\n",
       "    }\n",
       "\n",
       "    .dataframe tbody tr th {\n",
       "        vertical-align: top;\n",
       "    }\n",
       "\n",
       "    .dataframe thead th {\n",
       "        text-align: right;\n",
       "    }\n",
       "</style>\n",
       "<table border=\"1\" class=\"dataframe\">\n",
       "  <thead>\n",
       "    <tr style=\"text-align: right;\">\n",
       "      <th></th>\n",
       "      <th>Date</th>\n",
       "      <th>Close</th>\n",
       "      <th>High</th>\n",
       "      <th>Low</th>\n",
       "      <th>Open</th>\n",
       "      <th>Volume</th>\n",
       "    </tr>\n",
       "  </thead>\n",
       "  <tbody>\n",
       "    <tr>\n",
       "      <th>0</th>\n",
       "      <td>2020-01-01</td>\n",
       "      <td>80.777489</td>\n",
       "      <td>80.942761</td>\n",
       "      <td>78.608267</td>\n",
       "      <td>78.732226</td>\n",
       "      <td>13620373</td>\n",
       "    </tr>\n",
       "    <tr>\n",
       "      <th>1</th>\n",
       "      <td>2020-01-02</td>\n",
       "      <td>80.612213</td>\n",
       "      <td>81.273309</td>\n",
       "      <td>80.302325</td>\n",
       "      <td>80.798148</td>\n",
       "      <td>5673692</td>\n",
       "    </tr>\n",
       "    <tr>\n",
       "      <th>2</th>\n",
       "      <td>2020-01-03</td>\n",
       "      <td>79.744545</td>\n",
       "      <td>80.488274</td>\n",
       "      <td>79.021467</td>\n",
       "      <td>80.261025</td>\n",
       "      <td>7358268</td>\n",
       "    </tr>\n",
       "    <tr>\n",
       "      <th>3</th>\n",
       "      <td>2020-01-06</td>\n",
       "      <td>79.785851</td>\n",
       "      <td>80.137058</td>\n",
       "      <td>77.678611</td>\n",
       "      <td>79.331353</td>\n",
       "      <td>7355290</td>\n",
       "    </tr>\n",
       "    <tr>\n",
       "      <th>4</th>\n",
       "      <td>2020-01-07</td>\n",
       "      <td>79.207397</td>\n",
       "      <td>80.364316</td>\n",
       "      <td>78.980148</td>\n",
       "      <td>79.806517</td>\n",
       "      <td>14023712</td>\n",
       "    </tr>\n",
       "  </tbody>\n",
       "</table>\n",
       "</div>"
      ]
     },
     "execution_count": 34,
     "metadata": {},
     "output_type": "execute_result"
    }
   ],
   "execution_count": 34
  },
  {
   "metadata": {
    "ExecuteTime": {
     "end_time": "2025-03-31T12:44:53.877724Z",
     "start_time": "2025-03-31T12:44:53.873658Z"
    }
   },
   "cell_type": "code",
   "source": "df.shape",
   "id": "6f86c07edf3067a3",
   "outputs": [
    {
     "data": {
      "text/plain": [
       "(1280, 6)"
      ]
     },
     "execution_count": 36,
     "metadata": {},
     "output_type": "execute_result"
    }
   ],
   "execution_count": 36
  },
  {
   "metadata": {
    "ExecuteTime": {
     "end_time": "2025-03-31T12:45:13.911029Z",
     "start_time": "2025-03-31T12:45:13.906887Z"
    }
   },
   "cell_type": "code",
   "source": "df.size",
   "id": "d817f68dd681ef0",
   "outputs": [
    {
     "data": {
      "text/plain": [
       "7680"
      ]
     },
     "execution_count": 37,
     "metadata": {},
     "output_type": "execute_result"
    }
   ],
   "execution_count": 37
  },
  {
   "metadata": {
    "ExecuteTime": {
     "end_time": "2025-03-31T12:45:23.716798Z",
     "start_time": "2025-03-31T12:45:23.712176Z"
    }
   },
   "cell_type": "code",
   "source": "df.dtypes",
   "id": "593c48d45a7c8727",
   "outputs": [
    {
     "data": {
      "text/plain": [
       "Date      datetime64[ns]\n",
       "Close            float64\n",
       "High             float64\n",
       "Low              float64\n",
       "Open             float64\n",
       "Volume             int64\n",
       "dtype: object"
      ]
     },
     "execution_count": 38,
     "metadata": {},
     "output_type": "execute_result"
    }
   ],
   "execution_count": 38
  },
  {
   "metadata": {
    "ExecuteTime": {
     "end_time": "2025-03-31T12:45:30.597812Z",
     "start_time": "2025-03-31T12:45:30.572371Z"
    }
   },
   "cell_type": "code",
   "source": "df.describe()",
   "id": "db1091ea3502836",
   "outputs": [
    {
     "data": {
      "text/plain": [
       "                             Date        Close         High          Low  \\\n",
       "count                        1280  1280.000000  1280.000000  1280.000000   \n",
       "mean   2022-07-29 20:25:07.500000   163.010668   165.103655   160.941668   \n",
       "min           2020-01-01 00:00:00    61.752541    65.072568    52.327939   \n",
       "25%           2021-04-14 12:00:00   101.189602   102.606850    99.579553   \n",
       "50%           2022-07-26 12:00:00   144.088921   145.447850   142.499360   \n",
       "75%           2023-11-10 18:00:00   196.183964   198.540044   195.459312   \n",
       "max           2025-02-27 00:00:00   356.113861   356.893408   348.074624   \n",
       "std                           NaN    81.480026    82.437318    80.433943   \n",
       "\n",
       "              Open        Volume  \n",
       "count  1280.000000  1.280000e+03  \n",
       "mean    163.056150  1.768027e+07  \n",
       "min      60.638710  8.302140e+05  \n",
       "25%     101.213812  1.015395e+07  \n",
       "50%     143.814887  1.397654e+07  \n",
       "75%     196.326331  2.051815e+07  \n",
       "max     354.749603  2.260593e+08  \n",
       "std      81.483574  1.404642e+07  "
      ],
      "text/html": [
       "<div>\n",
       "<style scoped>\n",
       "    .dataframe tbody tr th:only-of-type {\n",
       "        vertical-align: middle;\n",
       "    }\n",
       "\n",
       "    .dataframe tbody tr th {\n",
       "        vertical-align: top;\n",
       "    }\n",
       "\n",
       "    .dataframe thead th {\n",
       "        text-align: right;\n",
       "    }\n",
       "</style>\n",
       "<table border=\"1\" class=\"dataframe\">\n",
       "  <thead>\n",
       "    <tr style=\"text-align: right;\">\n",
       "      <th></th>\n",
       "      <th>Date</th>\n",
       "      <th>Close</th>\n",
       "      <th>High</th>\n",
       "      <th>Low</th>\n",
       "      <th>Open</th>\n",
       "      <th>Volume</th>\n",
       "    </tr>\n",
       "  </thead>\n",
       "  <tbody>\n",
       "    <tr>\n",
       "      <th>count</th>\n",
       "      <td>1280</td>\n",
       "      <td>1280.000000</td>\n",
       "      <td>1280.000000</td>\n",
       "      <td>1280.000000</td>\n",
       "      <td>1280.000000</td>\n",
       "      <td>1.280000e+03</td>\n",
       "    </tr>\n",
       "    <tr>\n",
       "      <th>mean</th>\n",
       "      <td>2022-07-29 20:25:07.500000</td>\n",
       "      <td>163.010668</td>\n",
       "      <td>165.103655</td>\n",
       "      <td>160.941668</td>\n",
       "      <td>163.056150</td>\n",
       "      <td>1.768027e+07</td>\n",
       "    </tr>\n",
       "    <tr>\n",
       "      <th>min</th>\n",
       "      <td>2020-01-01 00:00:00</td>\n",
       "      <td>61.752541</td>\n",
       "      <td>65.072568</td>\n",
       "      <td>52.327939</td>\n",
       "      <td>60.638710</td>\n",
       "      <td>8.302140e+05</td>\n",
       "    </tr>\n",
       "    <tr>\n",
       "      <th>25%</th>\n",
       "      <td>2021-04-14 12:00:00</td>\n",
       "      <td>101.189602</td>\n",
       "      <td>102.606850</td>\n",
       "      <td>99.579553</td>\n",
       "      <td>101.213812</td>\n",
       "      <td>1.015395e+07</td>\n",
       "    </tr>\n",
       "    <tr>\n",
       "      <th>50%</th>\n",
       "      <td>2022-07-26 12:00:00</td>\n",
       "      <td>144.088921</td>\n",
       "      <td>145.447850</td>\n",
       "      <td>142.499360</td>\n",
       "      <td>143.814887</td>\n",
       "      <td>1.397654e+07</td>\n",
       "    </tr>\n",
       "    <tr>\n",
       "      <th>75%</th>\n",
       "      <td>2023-11-10 18:00:00</td>\n",
       "      <td>196.183964</td>\n",
       "      <td>198.540044</td>\n",
       "      <td>195.459312</td>\n",
       "      <td>196.326331</td>\n",
       "      <td>2.051815e+07</td>\n",
       "    </tr>\n",
       "    <tr>\n",
       "      <th>max</th>\n",
       "      <td>2025-02-27 00:00:00</td>\n",
       "      <td>356.113861</td>\n",
       "      <td>356.893408</td>\n",
       "      <td>348.074624</td>\n",
       "      <td>354.749603</td>\n",
       "      <td>2.260593e+08</td>\n",
       "    </tr>\n",
       "    <tr>\n",
       "      <th>std</th>\n",
       "      <td>NaN</td>\n",
       "      <td>81.480026</td>\n",
       "      <td>82.437318</td>\n",
       "      <td>80.433943</td>\n",
       "      <td>81.483574</td>\n",
       "      <td>1.404642e+07</td>\n",
       "    </tr>\n",
       "  </tbody>\n",
       "</table>\n",
       "</div>"
      ]
     },
     "execution_count": 39,
     "metadata": {},
     "output_type": "execute_result"
    }
   ],
   "execution_count": 39
  },
  {
   "metadata": {
    "ExecuteTime": {
     "end_time": "2025-03-31T12:46:42.257779Z",
     "start_time": "2025-03-31T12:46:42.249866Z"
    }
   },
   "cell_type": "code",
   "source": "df.info()",
   "id": "b50fff848db65bf0",
   "outputs": [
    {
     "name": "stdout",
     "output_type": "stream",
     "text": [
      "<class 'pandas.core.frame.DataFrame'>\n",
      "RangeIndex: 1280 entries, 0 to 1279\n",
      "Data columns (total 6 columns):\n",
      " #   Column  Non-Null Count  Dtype         \n",
      "---  ------  --------------  -----         \n",
      " 0   Date    1280 non-null   datetime64[ns]\n",
      " 1   Close   1280 non-null   float64       \n",
      " 2   High    1280 non-null   float64       \n",
      " 3   Low     1280 non-null   float64       \n",
      " 4   Open    1280 non-null   float64       \n",
      " 5   Volume  1280 non-null   int64         \n",
      "dtypes: datetime64[ns](1), float64(4), int64(1)\n",
      "memory usage: 60.1 KB\n"
     ]
    }
   ],
   "execution_count": 40
  },
  {
   "metadata": {
    "ExecuteTime": {
     "end_time": "2025-03-31T12:48:41.893841Z",
     "start_time": "2025-03-31T12:48:41.886822Z"
    }
   },
   "cell_type": "code",
   "source": "df[\"Date\"].sort_values().diff().value_counts()# check whether there are missing days in the between periods",
   "id": "34ab9fb3556d7b83",
   "outputs": [
    {
     "data": {
      "text/plain": [
       "Date\n",
       "1 days    974\n",
       "3 days    237\n",
       "2 days     37\n",
       "4 days     30\n",
       "5 days      1\n",
       "Name: count, dtype: int64"
      ]
     },
     "execution_count": 45,
     "metadata": {},
     "output_type": "execute_result"
    }
   ],
   "execution_count": 45
  },
  {
   "metadata": {
    "ExecuteTime": {
     "end_time": "2025-03-31T14:02:17.189187Z",
     "start_time": "2025-03-31T14:02:17.183372Z"
    }
   },
   "cell_type": "code",
   "source": "df[\"Date\"].dt.day_name().value_counts() # Check by days of week",
   "id": "fcef69a99166dda",
   "outputs": [
    {
     "data": {
      "text/plain": [
       "Date\n",
       "Thursday     260\n",
       "Wednesday    256\n",
       "Tuesday      256\n",
       "Monday       255\n",
       "Friday       251\n",
       "Saturday       2\n",
       "Name: count, dtype: int64"
      ]
     },
     "execution_count": 49,
     "metadata": {},
     "output_type": "execute_result"
    }
   ],
   "execution_count": 49
  },
  {
   "metadata": {},
   "cell_type": "markdown",
   "source": [
    "- **National Stock Exchange of India (NSE), and others follow a Monday to Friday trading schedule. So, 2 inputs of `Saturday` are wrong.**\n",
    "- **Most likely`Wednesday`,`Tuesday`,`Friday`&`Monday` contain some missing days.**"
   ],
   "id": "a1f4b74353494cb2"
  },
  {
   "metadata": {
    "ExecuteTime": {
     "end_time": "2025-03-31T14:11:45.431374Z",
     "start_time": "2025-03-31T14:11:45.428116Z"
    }
   },
   "cell_type": "code",
   "source": [
    "first_date = df.Date.min()\n",
    "last_date = df.Date.max()\n",
    "print(first_date, last_date)"
   ],
   "id": "ac96d1e1a3f32d1d",
   "outputs": [
    {
     "name": "stdout",
     "output_type": "stream",
     "text": [
      "2020-01-01 00:00:00 2025-02-27 00:00:00\n"
     ]
    }
   ],
   "execution_count": 51
  },
  {
   "metadata": {
    "ExecuteTime": {
     "end_time": "2025-03-31T14:16:34.393729Z",
     "start_time": "2025-03-31T14:16:34.384746Z"
    }
   },
   "cell_type": "code",
   "source": [
    "# Create date range and convert to DataFrame\n",
    "date_range = pd.date_range(start=first_date, end=last_date, freq=\"D\").to_frame(index=False, name=\"Date\")\n",
    "\n",
    "# Merge with the original DataFrame to include all dates\n",
    "df = df.merge(date_range, how=\"right\", on=\"Date\")\n",
    "df.isnull().sum()"
   ],
   "id": "40cad866c5135037",
   "outputs": [
    {
     "data": {
      "text/plain": [
       "Date        0\n",
       "Close     605\n",
       "High      605\n",
       "Low       605\n",
       "Open      605\n",
       "Volume    605\n",
       "dtype: int64"
      ]
     },
     "execution_count": 58,
     "metadata": {},
     "output_type": "execute_result"
    }
   ],
   "execution_count": 58
  },
  {
   "metadata": {
    "ExecuteTime": {
     "end_time": "2025-03-31T17:22:16.623955Z",
     "start_time": "2025-03-31T17:22:16.616323Z"
    }
   },
   "cell_type": "code",
   "source": [
    "# add day as new col\n",
    "df[\"day\"]=df[\"Date\"].dt.day_name()\n",
    "df[\"day\"]"
   ],
   "id": "299395cd06da2299",
   "outputs": [
    {
     "data": {
      "text/plain": [
       "0       Wednesday\n",
       "1        Thursday\n",
       "2          Friday\n",
       "3        Saturday\n",
       "4          Sunday\n",
       "          ...    \n",
       "1880       Sunday\n",
       "1881       Monday\n",
       "1882      Tuesday\n",
       "1883    Wednesday\n",
       "1884     Thursday\n",
       "Name: day, Length: 1885, dtype: object"
      ]
     },
     "execution_count": 63,
     "metadata": {},
     "output_type": "execute_result"
    }
   ],
   "execution_count": 63
  },
  {
   "metadata": {
    "ExecuteTime": {
     "end_time": "2025-03-31T17:27:14.699748Z",
     "start_time": "2025-03-31T17:27:14.695290Z"
    }
   },
   "cell_type": "code",
   "source": "df = df[~df[\"day\"].isin([\"Saturday\", \"Sunday\"])].drop(columns=\"day\").reset_index(drop=True).copy()",
   "id": "972f34bea49108c4",
   "outputs": [],
   "execution_count": 72
  },
  {
   "metadata": {
    "ExecuteTime": {
     "end_time": "2025-03-31T17:27:17.664174Z",
     "start_time": "2025-03-31T17:27:17.658966Z"
    }
   },
   "cell_type": "code",
   "source": "df.isnull().sum()",
   "id": "f1b6e5654528fcc5",
   "outputs": [
    {
     "data": {
      "text/plain": [
       "Date       0\n",
       "Close     69\n",
       "High      69\n",
       "Low       69\n",
       "Open      69\n",
       "Volume    69\n",
       "dtype: int64"
      ]
     },
     "execution_count": 73,
     "metadata": {},
     "output_type": "execute_result"
    }
   ],
   "execution_count": 73
  },
  {
   "metadata": {},
   "cell_type": "markdown",
   "source": "# Handel missing values",
   "id": "dd3c14113dd62d8d"
  },
  {
   "metadata": {
    "ExecuteTime": {
     "end_time": "2025-03-31T17:31:24.005557Z",
     "start_time": "2025-03-31T17:31:24.000682Z"
    }
   },
   "cell_type": "code",
   "source": "df.dtypes",
   "id": "1636d2d91a8ee723",
   "outputs": [
    {
     "data": {
      "text/plain": [
       "Date      datetime64[ns]\n",
       "Close            float64\n",
       "High             float64\n",
       "Low              float64\n",
       "Open             float64\n",
       "Volume           float64\n",
       "dtype: object"
      ]
     },
     "execution_count": 85,
     "metadata": {},
     "output_type": "execute_result"
    }
   ],
   "execution_count": 85
  },
  {
   "metadata": {
    "ExecuteTime": {
     "end_time": "2025-03-31T17:36:26.143120Z",
     "start_time": "2025-03-31T17:36:25.868468Z"
    }
   },
   "cell_type": "code",
   "source": "msno.matrix(df.set_index(df.Date))",
   "id": "713e03d7226d509c",
   "outputs": [
    {
     "data": {
      "text/plain": [
       "<Axes: >"
      ]
     },
     "execution_count": 98,
     "metadata": {},
     "output_type": "execute_result"
    },
    {
     "data": {
      "text/plain": [
       "<Figure size 2500x1000 with 2 Axes>"
      ],
      "image/png": "[encoded data removed]"
     },
     "metadata": {},
     "output_type": "display_data"
    }
   ],
   "execution_count": 98
  },
  {
   "metadata": {
    "ExecuteTime": {
     "end_time": "2025-03-31T17:38:33.880933Z",
     "start_time": "2025-03-31T17:38:33.863919Z"
    }
   },
   "cell_type": "code",
   "source": "df[df[\"Close\"].isnull()]",
   "id": "71ad3a7ad3780c",
   "outputs": [
    {
     "data": {
      "text/plain": [
       "           Date  Close  High  Low  Open  Volume\n",
       "37   2020-02-21    NaN   NaN  NaN   NaN     NaN\n",
       "49   2020-03-10    NaN   NaN  NaN   NaN     NaN\n",
       "66   2020-04-02    NaN   NaN  NaN   NaN     NaN\n",
       "68   2020-04-06    NaN   NaN  NaN   NaN     NaN\n",
       "72   2020-04-10    NaN   NaN  NaN   NaN     NaN\n",
       "74   2020-04-14    NaN   NaN  NaN   NaN     NaN\n",
       "87   2020-05-01    NaN   NaN  NaN   NaN     NaN\n",
       "103  2020-05-25    NaN   NaN  NaN   NaN     NaN\n",
       "197  2020-10-02    NaN   NaN  NaN   NaN     NaN\n",
       "228  2020-11-16    NaN   NaN  NaN   NaN     NaN\n",
       "238  2020-11-30    NaN   NaN  NaN   NaN     NaN\n",
       "257  2020-12-25    NaN   NaN  NaN   NaN     NaN\n",
       "279  2021-01-26    NaN   NaN  NaN   NaN     NaN\n",
       "311  2021-03-11    NaN   NaN  NaN   NaN     NaN\n",
       "323  2021-03-29    NaN   NaN  NaN   NaN     NaN\n",
       "327  2021-04-02    NaN   NaN  NaN   NaN     NaN\n",
       "335  2021-04-14    NaN   NaN  NaN   NaN     NaN\n",
       "340  2021-04-21    NaN   NaN  NaN   NaN     NaN\n",
       "356  2021-05-13    NaN   NaN  NaN   NaN     NaN\n",
       "405  2021-07-21    NaN   NaN  NaN   NaN     NaN\n",
       "426  2021-08-19    NaN   NaN  NaN   NaN     NaN\n",
       "442  2021-09-10    NaN   NaN  NaN   NaN     NaN\n",
       "467  2021-10-15    NaN   NaN  NaN   NaN     NaN\n",
       "482  2021-11-05    NaN   NaN  NaN   NaN     NaN\n",
       "492  2021-11-19    NaN   NaN  NaN   NaN     NaN\n",
       "540  2022-01-26    NaN   NaN  NaN   NaN     NaN\n",
       "564  2022-03-01    NaN   NaN  NaN   NaN     NaN\n",
       "577  2022-03-18    NaN   NaN  NaN   NaN     NaN\n",
       "596  2022-04-14    NaN   NaN  NaN   NaN     NaN\n",
       "597  2022-04-15    NaN   NaN  NaN   NaN     NaN\n",
       "609  2022-05-03    NaN   NaN  NaN   NaN     NaN\n",
       "679  2022-08-09    NaN   NaN  NaN   NaN     NaN\n",
       "683  2022-08-15    NaN   NaN  NaN   NaN     NaN\n",
       "695  2022-08-31    NaN   NaN  NaN   NaN     NaN\n",
       "720  2022-10-05    NaN   NaN  NaN   NaN     NaN\n",
       "735  2022-10-26    NaN   NaN  NaN   NaN     NaN\n",
       "744  2022-11-08    NaN   NaN  NaN   NaN     NaN\n",
       "801  2023-01-26    NaN   NaN  NaN   NaN     NaN\n",
       "829  2023-03-07    NaN   NaN  NaN   NaN     NaN\n",
       "846  2023-03-30    NaN   NaN  NaN   NaN     NaN\n",
       "849  2023-04-04    NaN   NaN  NaN   NaN     NaN\n",
       "852  2023-04-07    NaN   NaN  NaN   NaN     NaN\n",
       "857  2023-04-14    NaN   NaN  NaN   NaN     NaN\n",
       "868  2023-05-01    NaN   NaN  NaN   NaN     NaN\n",
       "911  2023-06-29    NaN   NaN  NaN   NaN     NaN\n",
       "944  2023-08-15    NaN   NaN  NaN   NaN     NaN\n",
       "969  2023-09-19    NaN   NaN  NaN   NaN     NaN\n",
       "978  2023-10-02    NaN   NaN  NaN   NaN     NaN\n",
       "994  2023-10-24    NaN   NaN  NaN   NaN     NaN\n",
       "1009 2023-11-14    NaN   NaN  NaN   NaN     NaN\n",
       "1018 2023-11-27    NaN   NaN  NaN   NaN     NaN\n",
       "1038 2023-12-25    NaN   NaN  NaN   NaN     NaN\n",
       "1058 2024-01-22    NaN   NaN  NaN   NaN     NaN\n",
       "1062 2024-01-26    NaN   NaN  NaN   NaN     NaN\n",
       "1092 2024-03-08    NaN   NaN  NaN   NaN     NaN\n",
       "1103 2024-03-25    NaN   NaN  NaN   NaN     NaN\n",
       "1107 2024-03-29    NaN   NaN  NaN   NaN     NaN\n",
       "1116 2024-04-11    NaN   NaN  NaN   NaN     NaN\n",
       "1120 2024-04-17    NaN   NaN  NaN   NaN     NaN\n",
       "1130 2024-05-01    NaN   NaN  NaN   NaN     NaN\n",
       "1143 2024-05-20    NaN   NaN  NaN   NaN     NaN\n",
       "1163 2024-06-17    NaN   NaN  NaN   NaN     NaN\n",
       "1185 2024-07-17    NaN   NaN  NaN   NaN     NaN\n",
       "1206 2024-08-15    NaN   NaN  NaN   NaN     NaN\n",
       "1240 2024-10-02    NaN   NaN  NaN   NaN     NaN\n",
       "1272 2024-11-15    NaN   NaN  NaN   NaN     NaN\n",
       "1275 2024-11-20    NaN   NaN  NaN   NaN     NaN\n",
       "1300 2024-12-25    NaN   NaN  NaN   NaN     NaN\n",
       "1345 2025-02-26    NaN   NaN  NaN   NaN     NaN"
      ],
      "text/html": [
       "<div>\n",
       "<style scoped>\n",
       "    .dataframe tbody tr th:only-of-type {\n",
       "        vertical-align: middle;\n",
       "    }\n",
       "\n",
       "    .dataframe tbody tr th {\n",
       "        vertical-align: top;\n",
       "    }\n",
       "\n",
       "    .dataframe thead th {\n",
       "        text-align: right;\n",
       "    }\n",
       "</style>\n",
       "<table border=\"1\" class=\"dataframe\">\n",
       "  <thead>\n",
       "    <tr style=\"text-align: right;\">\n",
       "      <th></th>\n",
       "      <th>Date</th>\n",
       "      <th>Close</th>\n",
       "      <th>High</th>\n",
       "      <th>Low</th>\n",
       "      <th>Open</th>\n",
       "      <th>Volume</th>\n",
       "    </tr>\n",
       "  </thead>\n",
       "  <tbody>\n",
       "    <tr>\n",
       "      <th>37</th>\n",
       "      <td>2020-02-21</td>\n",
       "      <td>NaN</td>\n",
       "      <td>NaN</td>\n",
       "      <td>NaN</td>\n",
       "      <td>NaN</td>\n",
       "      <td>NaN</td>\n",
       "    </tr>\n",
       "    <tr>\n",
       "      <th>49</th>\n",
       "      <td>2020-03-10</td>\n",
       "      <td>NaN</td>\n",
       "      <td>NaN</td>\n",
       "      <td>NaN</td>\n",
       "      <td>NaN</td>\n",
       "      <td>NaN</td>\n",
       "    </tr>\n",
       "    <tr>\n",
       "      <th>66</th>\n",
       "      <td>2020-04-02</td>\n",
       "      <td>NaN</td>\n",
       "      <td>NaN</td>\n",
       "      <td>NaN</td>\n",
       "      <td>NaN</td>\n",
       "      <td>NaN</td>\n",
       "    </tr>\n",
       "    <tr>\n",
       "      <th>68</th>\n",
       "      <td>2020-04-06</td>\n",
       "      <td>NaN</td>\n",
       "      <td>NaN</td>\n",
       "      <td>NaN</td>\n",
       "      <td>NaN</td>\n",
       "      <td>NaN</td>\n",
       "    </tr>\n",
       "    <tr>\n",
       "      <th>72</th>\n",
       "      <td>2020-04-10</td>\n",
       "      <td>NaN</td>\n",
       "      <td>NaN</td>\n",
       "      <td>NaN</td>\n",
       "      <td>NaN</td>\n",
       "      <td>NaN</td>\n",
       "    </tr>\n",
       "    <tr>\n",
       "      <th>74</th>\n",
       "      <td>2020-04-14</td>\n",
       "      <td>NaN</td>\n",
       "      <td>NaN</td>\n",
       "      <td>NaN</td>\n",
       "      <td>NaN</td>\n",
       "      <td>NaN</td>\n",
       "    </tr>\n",
       "    <tr>\n",
       "      <th>87</th>\n",
       "      <td>2020-05-01</td>\n",
       "      <td>NaN</td>\n",
       "      <td>NaN</td>\n",
       "      <td>NaN</td>\n",
       "      <td>NaN</td>\n",
       "      <td>NaN</td>\n",
       "    </tr>\n",
       "    <tr>\n",
       "      <th>103</th>\n",
       "      <td>2020-05-25</td>\n",
       "      <td>NaN</td>\n",
       "      <td>NaN</td>\n",
       "      <td>NaN</td>\n",
       "      <td>NaN</td>\n",
       "      <td>NaN</td>\n",
       "    </tr>\n",
       "    <tr>\n",
       "      <th>197</th>\n",
       "      <td>2020-10-02</td>\n",
       "      <td>NaN</td>\n",
       "      <td>NaN</td>\n",
       "      <td>NaN</td>\n",
       "      <td>NaN</td>\n",
       "      <td>NaN</td>\n",
       "    </tr>\n",
       "    <tr>\n",
       "      <th>228</th>\n",
       "      <td>2020-11-16</td>\n",
       "      <td>NaN</td>\n",
       "      <td>NaN</td>\n",
       "      <td>NaN</td>\n",
       "      <td>NaN</td>\n",
       "      <td>NaN</td>\n",
       "    </tr>\n",
       "    <tr>\n",
       "      <th>238</th>\n",
       "      <td>2020-11-30</td>\n",
       "      <td>NaN</td>\n",
       "      <td>NaN</td>\n",
       "      <td>NaN</td>\n",
       "      <td>NaN</td>\n",
       "      <td>NaN</td>\n",
       "    </tr>\n",
       "    <tr>\n",
       "      <th>257</th>\n",
       "      <td>2020-12-25</td>\n",
       "      <td>NaN</td>\n",
       "      <td>NaN</td>\n",
       "      <td>NaN</td>\n",
       "      <td>NaN</td>\n",
       "      <td>NaN</td>\n",
       "    </tr>\n",
       "    <tr>\n",
       "      <th>279</th>\n",
       "      <td>2021-01-26</td>\n",
       "      <td>NaN</td>\n",
       "      <td>NaN</td>\n",
       "      <td>NaN</td>\n",
       "      <td>NaN</td>\n",
       "      <td>NaN</td>\n",
       "    </tr>\n",
       "    <tr>\n",
       "      <th>311</th>\n",
       "      <td>2021-03-11</td>\n",
       "      <td>NaN</td>\n",
       "      <td>NaN</td>\n",
       "      <td>NaN</td>\n",
       "      <td>NaN</td>\n",
       "      <td>NaN</td>\n",
       "    </tr>\n",
       "    <tr>\n",
       "      <th>323</th>\n",
       "      <td>2021-03-29</td>\n",
       "      <td>NaN</td>\n",
       "      <td>NaN</td>\n",
       "      <td>NaN</td>\n",
       "      <td>NaN</td>\n",
       "      <td>NaN</td>\n",
       "    </tr>\n",
       "    <tr>\n",
       "      <th>327</th>\n",
       "      <td>2021-04-02</td>\n",
       "      <td>NaN</td>\n",
       "      <td>NaN</td>\n",
       "      <td>NaN</td>\n",
       "      <td>NaN</td>\n",
       "      <td>NaN</td>\n",
       "    </tr>\n",
       "    <tr>\n",
       "      <th>335</th>\n",
       "      <td>2021-04-14</td>\n",
       "      <td>NaN</td>\n",
       "      <td>NaN</td>\n",
       "      <td>NaN</td>\n",
       "      <td>NaN</td>\n",
       "      <td>NaN</td>\n",
       "    </tr>\n",
       "    <tr>\n",
       "      <th>340</th>\n",
       "      <td>2021-04-21</td>\n",
       "      <td>NaN</td>\n",
       "      <td>NaN</td>\n",
       "      <td>NaN</td>\n",
       "      <td>NaN</td>\n",
       "      <td>NaN</td>\n",
       "    </tr>\n",
       "    <tr>\n",
       "      <th>356</th>\n",
       "      <td>2021-05-13</td>\n",
       "      <td>NaN</td>\n",
       "      <td>NaN</td>\n",
       "      <td>NaN</td>\n",
       "      <td>NaN</td>\n",
       "      <td>NaN</td>\n",
       "    </tr>\n",
       "    <tr>\n",
       "      <th>405</th>\n",
       "      <td>2021-07-21</td>\n",
       "      <td>NaN</td>\n",
       "      <td>NaN</td>\n",
       "      <td>NaN</td>\n",
       "      <td>NaN</td>\n",
       "      <td>NaN</td>\n",
       "    </tr>\n",
       "    <tr>\n",
       "      <th>426</th>\n",
       "      <td>2021-08-19</td>\n",
       "      <td>NaN</td>\n",
       "      <td>NaN</td>\n",
       "      <td>NaN</td>\n",
       "      <td>NaN</td>\n",
       "      <td>NaN</td>\n",
       "    </tr>\n",
       "    <tr>\n",
       "      <th>442</th>\n",
       "      <td>2021-09-10</td>\n",
       "      <td>NaN</td>\n",
       "      <td>NaN</td>\n",
       "      <td>NaN</td>\n",
       "      <td>NaN</td>\n",
       "      <td>NaN</td>\n",
       "    </tr>\n",
       "    <tr>\n",
       "      <th>467</th>\n",
       "      <td>2021-10-15</td>\n",
       "      <td>NaN</td>\n",
       "      <td>NaN</td>\n",
       "      <td>NaN</td>\n",
       "      <td>NaN</td>\n",
       "      <td>NaN</td>\n",
       "    </tr>\n",
       "    <tr>\n",
       "      <th>482</th>\n",
       "      <td>2021-11-05</td>\n",
       "      <td>NaN</td>\n",
       "      <td>NaN</td>\n",
       "      <td>NaN</td>\n",
       "      <td>NaN</td>\n",
       "      <td>NaN</td>\n",
       "    </tr>\n",
       "    <tr>\n",
       "      <th>492</th>\n",
       "      <td>2021-11-19</td>\n",
       "      <td>NaN</td>\n",
       "      <td>NaN</td>\n",
       "      <td>NaN</td>\n",
       "      <td>NaN</td>\n",
       "      <td>NaN</td>\n",
       "    </tr>\n",
       "    <tr>\n",
       "      <th>540</th>\n",
       "      <td>2022-01-26</td>\n",
       "      <td>NaN</td>\n",
       "      <td>NaN</td>\n",
       "      <td>NaN</td>\n",
       "      <td>NaN</td>\n",
       "      <td>NaN</td>\n",
       "    </tr>\n",
       "    <tr>\n",
       "      <th>564</th>\n",
       "      <td>2022-03-01</td>\n",
       "      <td>NaN</td>\n",
       "      <td>NaN</td>\n",
       "      <td>NaN</td>\n",
       "      <td>NaN</td>\n",
       "      <td>NaN</td>\n",
       "    </tr>\n",
       "    <tr>\n",
       "      <th>577</th>\n",
       "      <td>2022-03-18</td>\n",
       "      <td>NaN</td>\n",
       "      <td>NaN</td>\n",
       "      <td>NaN</td>\n",
       "      <td>NaN</td>\n",
       "      <td>NaN</td>\n",
       "    </tr>\n",
       "    <tr>\n",
       "      <th>596</th>\n",
       "      <td>2022-04-14</td>\n",
       "      <td>NaN</td>\n",
       "      <td>NaN</td>\n",
       "      <td>NaN</td>\n",
       "      <td>NaN</td>\n",
       "      <td>NaN</td>\n",
       "    </tr>\n",
       "    <tr>\n",
       "      <th>597</th>\n",
       "      <td>2022-04-15</td>\n",
       "      <td>NaN</td>\n",
       "      <td>NaN</td>\n",
       "      <td>NaN</td>\n",
       "      <td>NaN</td>\n",
       "      <td>NaN</td>\n",
       "    </tr>\n",
       "    <tr>\n",
       "      <th>609</th>\n",
       "      <td>2022-05-03</td>\n",
       "      <td>NaN</td>\n",
       "      <td>NaN</td>\n",
       "      <td>NaN</td>\n",
       "      <td>NaN</td>\n",
       "      <td>NaN</td>\n",
       "    </tr>\n",
       "    <tr>\n",
       "      <th>679</th>\n",
       "      <td>2022-08-09</td>\n",
       "      <td>NaN</td>\n",
       "      <td>NaN</td>\n",
       "      <td>NaN</td>\n",
       "      <td>NaN</td>\n",
       "      <td>NaN</td>\n",
       "    </tr>\n",
       "    <tr>\n",
       "      <th>683</th>\n",
       "      <td>2022-08-15</td>\n",
       "      <td>NaN</td>\n",
       "      <td>NaN</td>\n",
       "      <td>NaN</td>\n",
       "      <td>NaN</td>\n",
       "      <td>NaN</td>\n",
       "    </tr>\n",
       "    <tr>\n",
       "      <th>695</th>\n",
       "      <td>2022-08-31</td>\n",
       "      <td>NaN</td>\n",
       "      <td>NaN</td>\n",
       "      <td>NaN</td>\n",
       "      <td>NaN</td>\n",
       "      <td>NaN</td>\n",
       "    </tr>\n",
       "    <tr>\n",
       "      <th>720</th>\n",
       "      <td>2022-10-05</td>\n",
       "      <td>NaN</td>\n",
       "      <td>NaN</td>\n",
       "      <td>NaN</td>\n",
       "      <td>NaN</td>\n",
       "      <td>NaN</td>\n",
       "    </tr>\n",
       "    <tr>\n",
       "      <th>735</th>\n",
       "      <td>2022-10-26</td>\n",
       "      <td>NaN</td>\n",
       "      <td>NaN</td>\n",
       "      <td>NaN</td>\n",
       "      <td>NaN</td>\n",
       "      <td>NaN</td>\n",
       "    </tr>\n",
       "    <tr>\n",
       "      <th>744</th>\n",
       "      <td>2022-11-08</td>\n",
       "      <td>NaN</td>\n",
       "      <td>NaN</td>\n",
       "      <td>NaN</td>\n",
       "      <td>NaN</td>\n",
       "      <td>NaN</td>\n",
       "    </tr>\n",
       "    <tr>\n",
       "      <th>801</th>\n",
       "      <td>2023-01-26</td>\n",
       "      <td>NaN</td>\n",
       "      <td>NaN</td>\n",
       "      <td>NaN</td>\n",
       "      <td>NaN</td>\n",
       "      <td>NaN</td>\n",
       "    </tr>\n",
       "    <tr>\n",
       "      <th>829</th>\n",
       "      <td>2023-03-07</td>\n",
       "      <td>NaN</td>\n",
       "      <td>NaN</td>\n",
       "      <td>NaN</td>\n",
       "      <td>NaN</td>\n",
       "      <td>NaN</td>\n",
       "    </tr>\n",
       "    <tr>\n",
       "      <th>846</th>\n",
       "      <td>2023-03-30</td>\n",
       "      <td>NaN</td>\n",
       "      <td>NaN</td>\n",
       "      <td>NaN</td>\n",
       "      <td>NaN</td>\n",
       "      <td>NaN</td>\n",
       "    </tr>\n",
       "    <tr>\n",
       "      <th>849</th>\n",
       "      <td>2023-04-04</td>\n",
       "      <td>NaN</td>\n",
       "      <td>NaN</td>\n",
       "      <td>NaN</td>\n",
       "      <td>NaN</td>\n",
       "      <td>NaN</td>\n",
       "    </tr>\n",
       "    <tr>\n",
       "      <th>852</th>\n",
       "      <td>2023-04-07</td>\n",
       "      <td>NaN</td>\n",
       "      <td>NaN</td>\n",
       "      <td>NaN</td>\n",
       "      <td>NaN</td>\n",
       "      <td>NaN</td>\n",
       "    </tr>\n",
       "    <tr>\n",
       "      <th>857</th>\n",
       "      <td>2023-04-14</td>\n",
       "      <td>NaN</td>\n",
       "      <td>NaN</td>\n",
       "      <td>NaN</td>\n",
       "      <td>NaN</td>\n",
       "      <td>NaN</td>\n",
       "    </tr>\n",
       "    <tr>\n",
       "      <th>868</th>\n",
       "      <td>2023-05-01</td>\n",
       "      <td>NaN</td>\n",
       "      <td>NaN</td>\n",
       "      <td>NaN</td>\n",
       "      <td>NaN</td>\n",
       "      <td>NaN</td>\n",
       "    </tr>\n",
       "    <tr>\n",
       "      <th>911</th>\n",
       "      <td>2023-06-29</td>\n",
       "      <td>NaN</td>\n",
       "      <td>NaN</td>\n",
       "      <td>NaN</td>\n",
       "      <td>NaN</td>\n",
       "      <td>NaN</td>\n",
       "    </tr>\n",
       "    <tr>\n",
       "      <th>944</th>\n",
       "      <td>2023-08-15</td>\n",
       "      <td>NaN</td>\n",
       "      <td>NaN</td>\n",
       "      <td>NaN</td>\n",
       "      <td>NaN</td>\n",
       "      <td>NaN</td>\n",
       "    </tr>\n",
       "    <tr>\n",
       "      <th>969</th>\n",
       "      <td>2023-09-19</td>\n",
       "      <td>NaN</td>\n",
       "      <td>NaN</td>\n",
       "      <td>NaN</td>\n",
       "      <td>NaN</td>\n",
       "      <td>NaN</td>\n",
       "    </tr>\n",
       "    <tr>\n",
       "      <th>978</th>\n",
       "      <td>2023-10-02</td>\n",
       "      <td>NaN</td>\n",
       "      <td>NaN</td>\n",
       "      <td>NaN</td>\n",
       "      <td>NaN</td>\n",
       "      <td>NaN</td>\n",
       "    </tr>\n",
       "    <tr>\n",
       "      <th>994</th>\n",
       "      <td>2023-10-24</td>\n",
       "      <td>NaN</td>\n",
       "      <td>NaN</td>\n",
       "      <td>NaN</td>\n",
       "      <td>NaN</td>\n",
       "      <td>NaN</td>\n",
       "    </tr>\n",
       "    <tr>\n",
       "      <th>1009</th>\n",
       "      <td>2023-11-14</td>\n",
       "      <td>NaN</td>\n",
       "      <td>NaN</td>\n",
       "      <td>NaN</td>\n",
       "      <td>NaN</td>\n",
       "      <td>NaN</td>\n",
       "    </tr>\n",
       "    <tr>\n",
       "      <th>1018</th>\n",
       "      <td>2023-11-27</td>\n",
       "      <td>NaN</td>\n",
       "      <td>NaN</td>\n",
       "      <td>NaN</td>\n",
       "      <td>NaN</td>\n",
       "      <td>NaN</td>\n",
       "    </tr>\n",
       "    <tr>\n",
       "      <th>1038</th>\n",
       "      <td>2023-12-25</td>\n",
       "      <td>NaN</td>\n",
       "      <td>NaN</td>\n",
       "      <td>NaN</td>\n",
       "      <td>NaN</td>\n",
       "      <td>NaN</td>\n",
       "    </tr>\n",
       "    <tr>\n",
       "      <th>1058</th>\n",
       "      <td>2024-01-22</td>\n",
       "      <td>NaN</td>\n",
       "      <td>NaN</td>\n",
       "      <td>NaN</td>\n",
       "      <td>NaN</td>\n",
       "      <td>NaN</td>\n",
       "    </tr>\n",
       "    <tr>\n",
       "      <th>1062</th>\n",
       "      <td>2024-01-26</td>\n",
       "      <td>NaN</td>\n",
       "      <td>NaN</td>\n",
       "      <td>NaN</td>\n",
       "      <td>NaN</td>\n",
       "      <td>NaN</td>\n",
       "    </tr>\n",
       "    <tr>\n",
       "      <th>1092</th>\n",
       "      <td>2024-03-08</td>\n",
       "      <td>NaN</td>\n",
       "      <td>NaN</td>\n",
       "      <td>NaN</td>\n",
       "      <td>NaN</td>\n",
       "      <td>NaN</td>\n",
       "    </tr>\n",
       "    <tr>\n",
       "      <th>1103</th>\n",
       "      <td>2024-03-25</td>\n",
       "      <td>NaN</td>\n",
       "      <td>NaN</td>\n",
       "      <td>NaN</td>\n",
       "      <td>NaN</td>\n",
       "      <td>NaN</td>\n",
       "    </tr>\n",
       "    <tr>\n",
       "      <th>1107</th>\n",
       "      <td>2024-03-29</td>\n",
       "      <td>NaN</td>\n",
       "      <td>NaN</td>\n",
       "      <td>NaN</td>\n",
       "      <td>NaN</td>\n",
       "      <td>NaN</td>\n",
       "    </tr>\n",
       "    <tr>\n",
       "      <th>1116</th>\n",
       "      <td>2024-04-11</td>\n",
       "      <td>NaN</td>\n",
       "      <td>NaN</td>\n",
       "      <td>NaN</td>\n",
       "      <td>NaN</td>\n",
       "      <td>NaN</td>\n",
       "    </tr>\n",
       "    <tr>\n",
       "      <th>1120</th>\n",
       "      <td>2024-04-17</td>\n",
       "      <td>NaN</td>\n",
       "      <td>NaN</td>\n",
       "      <td>NaN</td>\n",
       "      <td>NaN</td>\n",
       "      <td>NaN</td>\n",
       "    </tr>\n",
       "    <tr>\n",
       "      <th>1130</th>\n",
       "      <td>2024-05-01</td>\n",
       "      <td>NaN</td>\n",
       "      <td>NaN</td>\n",
       "      <td>NaN</td>\n",
       "      <td>NaN</td>\n",
       "      <td>NaN</td>\n",
       "    </tr>\n",
       "    <tr>\n",
       "      <th>1143</th>\n",
       "      <td>2024-05-20</td>\n",
       "      <td>NaN</td>\n",
       "      <td>NaN</td>\n",
       "      <td>NaN</td>\n",
       "      <td>NaN</td>\n",
       "      <td>NaN</td>\n",
       "    </tr>\n",
       "    <tr>\n",
       "      <th>1163</th>\n",
       "      <td>2024-06-17</td>\n",
       "      <td>NaN</td>\n",
       "      <td>NaN</td>\n",
       "      <td>NaN</td>\n",
       "      <td>NaN</td>\n",
       "      <td>NaN</td>\n",
       "    </tr>\n",
       "    <tr>\n",
       "      <th>1185</th>\n",
       "      <td>2024-07-17</td>\n",
       "      <td>NaN</td>\n",
       "      <td>NaN</td>\n",
       "      <td>NaN</td>\n",
       "      <td>NaN</td>\n",
       "      <td>NaN</td>\n",
       "    </tr>\n",
       "    <tr>\n",
       "      <th>1206</th>\n",
       "      <td>2024-08-15</td>\n",
       "      <td>NaN</td>\n",
       "      <td>NaN</td>\n",
       "      <td>NaN</td>\n",
       "      <td>NaN</td>\n",
       "      <td>NaN</td>\n",
       "    </tr>\n",
       "    <tr>\n",
       "      <th>1240</th>\n",
       "      <td>2024-10-02</td>\n",
       "      <td>NaN</td>\n",
       "      <td>NaN</td>\n",
       "      <td>NaN</td>\n",
       "      <td>NaN</td>\n",
       "      <td>NaN</td>\n",
       "    </tr>\n",
       "    <tr>\n",
       "      <th>1272</th>\n",
       "      <td>2024-11-15</td>\n",
       "      <td>NaN</td>\n",
       "      <td>NaN</td>\n",
       "      <td>NaN</td>\n",
       "      <td>NaN</td>\n",
       "      <td>NaN</td>\n",
       "    </tr>\n",
       "    <tr>\n",
       "      <th>1275</th>\n",
       "      <td>2024-11-20</td>\n",
       "      <td>NaN</td>\n",
       "      <td>NaN</td>\n",
       "      <td>NaN</td>\n",
       "      <td>NaN</td>\n",
       "      <td>NaN</td>\n",
       "    </tr>\n",
       "    <tr>\n",
       "      <th>1300</th>\n",
       "      <td>2024-12-25</td>\n",
       "      <td>NaN</td>\n",
       "      <td>NaN</td>\n",
       "      <td>NaN</td>\n",
       "      <td>NaN</td>\n",
       "      <td>NaN</td>\n",
       "    </tr>\n",
       "    <tr>\n",
       "      <th>1345</th>\n",
       "      <td>2025-02-26</td>\n",
       "      <td>NaN</td>\n",
       "      <td>NaN</td>\n",
       "      <td>NaN</td>\n",
       "      <td>NaN</td>\n",
       "      <td>NaN</td>\n",
       "    </tr>\n",
       "  </tbody>\n",
       "</table>\n",
       "</div>"
      ]
     },
     "execution_count": 102,
     "metadata": {},
     "output_type": "execute_result"
    }
   ],
   "execution_count": 102
  },
  {
   "metadata": {
    "ExecuteTime": {
     "end_time": "2025-03-31T18:14:08.215932Z",
     "start_time": "2025-03-31T18:14:08.209046Z"
    }
   },
   "cell_type": "code",
   "source": [
    "temp = df[df[\"Date\"].between(dt.datetime(2023,6,30), dt.datetime(2023,8,13))].reset_index(drop=True).copy()\n",
    "temp.isnull().sum()"
   ],
   "id": "6da25b0dff0b9ed3",
   "outputs": [
    {
     "data": {
      "text/plain": [
       "Date      0\n",
       "Close     0\n",
       "High      0\n",
       "Low       0\n",
       "Open      0\n",
       "Volume    0\n",
       "dtype: int64"
      ]
     },
     "execution_count": 164,
     "metadata": {},
     "output_type": "execute_result"
    }
   ],
   "execution_count": 164
  },
  {
   "metadata": {
    "ExecuteTime": {
     "end_time": "2025-03-31T18:14:09.891937Z",
     "start_time": "2025-03-31T18:14:09.464639Z"
    }
   },
   "cell_type": "code",
   "source": "msno.matrix(temp)",
   "id": "58ac725b61a38f1c",
   "outputs": [
    {
     "data": {
      "text/plain": [
       "<Axes: >"
      ]
     },
     "execution_count": 165,
     "metadata": {},
     "output_type": "execute_result"
    },
    {
     "data": {
      "text/plain": [
       "<Figure size 2500x1000 with 2 Axes>"
      ],
      "image/png": "[encoded data removed]"
     },
     "metadata": {},
     "output_type": "display_data"
    }
   ],
   "execution_count": 165
  },
  {
   "metadata": {
    "ExecuteTime": {
     "end_time": "2025-03-31T18:14:18.475944Z",
     "start_time": "2025-03-31T18:14:18.471356Z"
    }
   },
   "cell_type": "code",
   "source": [
    "missing_values_index = [index for index in range(8, len(temp), 6)]\n",
    "missing_values_index"
   ],
   "id": "413a507e39ef426c",
   "outputs": [
    {
     "data": {
      "text/plain": [
       "[8, 14, 20, 26]"
      ]
     },
     "execution_count": 166,
     "metadata": {},
     "output_type": "execute_result"
    }
   ],
   "execution_count": 166
  },
  {
   "metadata": {
    "ExecuteTime": {
     "end_time": "2025-03-31T18:14:24.549309Z",
     "start_time": "2025-03-31T18:14:24.543131Z"
    }
   },
   "cell_type": "code",
   "source": [
    "\n",
    "temp[\"close_with_missing_values\"] = temp[\"Close\"]\n",
    "temp.loc[missing_values_index,\"close_with_missing_values\"] = np.nan\n",
    "temp.isnull().sum()"
   ],
   "id": "22a85cb4eaa9883f",
   "outputs": [
    {
     "data": {
      "text/plain": [
       "Date                         0\n",
       "Close                        0\n",
       "High                         0\n",
       "Low                          0\n",
       "Open                         0\n",
       "Volume                       0\n",
       "close_with_missing_values    4\n",
       "dtype: int64"
      ]
     },
     "execution_count": 167,
     "metadata": {},
     "output_type": "execute_result"
    }
   ],
   "execution_count": 167
  },
  {
   "metadata": {
    "ExecuteTime": {
     "end_time": "2025-03-31T18:14:26.627416Z",
     "start_time": "2025-03-31T18:14:26.511333Z"
    }
   },
   "cell_type": "code",
   "source": [
    "plt.plot(temp[\"Date\"],temp[\"Close\"],\"-\")\n",
    "plt.plot(temp[\"Date\"],temp[\"close_with_missing_values\"],\"-.\")\n",
    "plt.legend([\"Close\",\"Close_with_missing_values\"])\n",
    "plt.xlabel(\"Date\")\n",
    "plt.ylabel(\"Close\")\n",
    "plt.show()"
   ],
   "id": "11cec5dbf066203e",
   "outputs": [
    {
     "data": {
      "text/plain": [
       "<Figure size 640x480 with 1 Axes>"
      ],
      "image/png": "[encoded data removed]"
     },
     "metadata": {},
     "output_type": "display_data"
    }
   ],
   "execution_count": 168
  },
  {
   "metadata": {},
   "cell_type": "markdown",
   "source": "### fill with last day value",
   "id": "df8760fe6e8bcf27"
  },
  {
   "metadata": {
    "ExecuteTime": {
     "end_time": "2025-03-31T18:14:28.970458Z",
     "start_time": "2025-03-31T18:14:28.830025Z"
    }
   },
   "cell_type": "code",
   "source": [
    "temp[\"missing_fill_las_day_value\"] = temp[\"close_with_missing_values\"]\n",
    "temp.loc[missing_values_index,\"missing_fill_las_day_value\"]=temp[\"Close\"].shift(1).iloc[missing_values_index]\n",
    "plt.title(\"fill with las day value | MAE= {}\".format(mae(temp[\"Close\"],temp[\"missing_fill_las_day_value\"])))\n",
    "plt.plot(temp[\"Date\"],temp[\"Close\"],\"-\")\n",
    "plt.plot(temp[\"Date\"],temp[\"missing_fill_las_day_value\"],\"-.\")\n",
    "plt.legend([\"Close\",\"fill with last day value\"])\n",
    "plt.xlabel(\"Date\")\n",
    "plt.ylabel(\"Close\")\n",
    "plt.show()"
   ],
   "id": "1c562b75dbdd36e2",
   "outputs": [
    {
     "data": {
      "text/plain": [
       "<Figure size 640x480 with 1 Axes>"
      ],
      "image/png": "[encoded data removed]"
     },
     "metadata": {},
     "output_type": "display_data"
    }
   ],
   "execution_count": 169
  },
  {
   "metadata": {},
   "cell_type": "markdown",
   "source": "### fill with moving average",
   "id": "d50e702653154c59"
  },
  {
   "metadata": {
    "ExecuteTime": {
     "end_time": "2025-03-31T18:14:32.451033Z",
     "start_time": "2025-03-31T18:14:32.318678Z"
    }
   },
   "cell_type": "code",
   "source": [
    "temp[\"missing_fill_with_moving_average\"] = temp[\"close_with_missing_values\"]\n",
    "temp.loc[missing_values_index,\"missing_fill_with_moving_average\"]=temp[\"Close\"].rolling(5).mean().iloc[missing_values_index]\n",
    "plt.title(\"fill with moving average value | MAE= {}\".format(mae(temp[\"Close\"],temp[\"missing_fill_with_moving_average\"])))\n",
    "plt.plot(temp[\"Date\"],temp[\"Close\"],\"-\")\n",
    "plt.plot(temp[\"Date\"],temp[\"missing_fill_with_moving_average\"],\"-.\")\n",
    "plt.legend([\"Close\",\"fill with moving average value\"])\n",
    "plt.xlabel(\"Date\")\n",
    "plt.ylabel(\"Close\")\n",
    "plt.show()"
   ],
   "id": "74effaf16832bb5c",
   "outputs": [
    {
     "data": {
      "text/plain": [
       "<Figure size 640x480 with 1 Axes>"
      ],
      "image/png": "[encoded data removed]"
     },
     "metadata": {},
     "output_type": "display_data"
    }
   ],
   "execution_count": 170
  },
  {
   "metadata": {},
   "cell_type": "markdown",
   "source": "### fill with last week value",
   "id": "900eda67ad183d3a"
  },
  {
   "metadata": {
    "ExecuteTime": {
     "end_time": "2025-03-31T18:14:44.681589Z",
     "start_time": "2025-03-31T18:14:44.554172Z"
    }
   },
   "cell_type": "code",
   "source": [
    "temp[\"missing_fill_with_last_week\"] = temp[\"close_with_missing_values\"]\n",
    "temp.loc[missing_values_index,\"missing_fill_with_last_week\"]=temp[\"Close\"].shift(7).iloc[missing_values_index]\n",
    "plt.title(\"fill with las week value | MAE= {}\".format(mae(temp[\"Close\"],temp[\"missing_fill_with_last_week\"])))\n",
    "plt.plot(temp[\"Date\"],temp[\"Close\"],\"-\")\n",
    "plt.plot(temp[\"Date\"],temp[\"missing_fill_with_last_week\"],\"-.\")\n",
    "plt.legend([\"Close\",\"fill with las week value\"])\n",
    "plt.xlabel(\"Date\")\n",
    "plt.ylabel(\"Close\")\n",
    "plt.show()"
   ],
   "id": "e6dbd79d2b0fe288",
   "outputs": [
    {
     "data": {
      "text/plain": [
       "<Figure size 640x480 with 1 Axes>"
      ],
      "image/png": "[encoded data removed]"
     },
     "metadata": {},
     "output_type": "display_data"
    }
   ],
   "execution_count": 171
  },
  {
   "metadata": {},
   "cell_type": "markdown",
   "source": "- **overall filling with last day value is more optimal solution than other due to rapidly change in variance of data over time.**",
   "id": "38b8c8d6a7bcf16c"
  }
 ],
 "metadata": {
  "kernelspec": {
   "display_name": "Python 3",
   "language": "python",
   "name": "python3"
  },
  "language_info": {
   "codemirror_mode": {
    "name": "ipython",
    "version": 2
   },
   "file_extension": ".py",
   "mimetype": "text/x-python",
   "name": "python",
   "nbconvert_exporter": "python",
   "pygments_lexer": "ipython2",
   "version": "2.7.6"
  }
 },
 "nbformat": 4,
 "nbformat_minor": 5
}
